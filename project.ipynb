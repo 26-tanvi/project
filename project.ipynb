{
  "nbformat": 4,
  "nbformat_minor": 0,
  "metadata": {
    "colab": {
      "provenance": [],
      "authorship_tag": "ABX9TyMJeXwpMbP5+5Sxdc+TcIeq",
      "include_colab_link": true
    },
    "kernelspec": {
      "name": "python3",
      "display_name": "Python 3"
    },
    "language_info": {
      "name": "python"
    }
  },
  "cells": [
    {
      "cell_type": "markdown",
      "metadata": {
        "id": "view-in-github",
        "colab_type": "text"
      },
      "source": [
        "<a href=\"https://colab.research.google.com/github/26-tanvi/project/blob/main/project.ipynb\" target=\"_parent\"><img src=\"https://colab.research.google.com/assets/colab-badge.svg\" alt=\"Open In Colab\"/></a>"
      ]
    },
    {
      "cell_type": "code",
      "execution_count": 2,
      "metadata": {
        "colab": {
          "base_uri": "https://localhost:8080/"
        },
        "id": "Sv2uuMosZSOp",
        "outputId": "90c529ec-d3df-406c-9a03-ffe5304fecbd"
      },
      "outputs": [
        {
          "output_type": "stream",
          "name": "stdout",
          "text": [
            "🕒 Current Hour: 4, 🚶 Motion Detected: 1, 🤖 Prediction: ON\n",
            "❌ Failed to turn on light: HTTPConnectionPool(host='192.168.1.50', port=8123): Max retries exceeded with url: /api/services/light/turn_on (Caused by ConnectTimeoutError(<urllib3.connection.HTTPConnection object at 0x7a15a93bd010>, 'Connection to 192.168.1.50 timed out. (connect timeout=None)'))\n"
          ]
        }
      ],
      "source": [
        "import pandas as pd\n",
        "from sklearn.tree import DecisionTreeClassifier\n",
        "from datetime import datetime\n",
        "import requests\n",
        "\n",
        "# ----------------------------\n",
        "# 1. Simulated training data\n",
        "# ----------------------------\n",
        "data = {\n",
        "    'hour': [6, 7, 8, 18, 19, 20, 21],\n",
        "    'motion_detected': [1, 1, 0, 1, 1, 0, 0],\n",
        "    'light_on': [1, 1, 0, 1, 1, 0, 0]\n",
        "}\n",
        "df = pd.DataFrame(data)\n",
        "\n",
        "# ----------------------------\n",
        "# 2. Train the ML model\n",
        "# ----------------------------\n",
        "X = df[['hour', 'motion_detected']]\n",
        "y = df['light_on']\n",
        "\n",
        "model = DecisionTreeClassifier()\n",
        "model.fit(X, y)\n",
        "\n",
        "# ----------------------------\n",
        "# 3. Get current conditions\n",
        "# ----------------------------\n",
        "current_hour = datetime.now().hour\n",
        "motion = 1  # Simulated motion (set 1 for motion detected, 0 otherwise)\n",
        "\n",
        "# Use DataFrame for prediction to avoid sklearn warning\n",
        "input_data = pd.DataFrame([[current_hour, motion]], columns=['hour', 'motion_detected'])\n",
        "prediction = model.predict(input_data)\n",
        "\n",
        "print(f\"🕒 Current Hour: {current_hour}, 🚶 Motion Detected: {motion}, 🤖 Prediction: {'ON' if prediction[0] == 1 else 'OFF'}\")\n",
        "\n",
        "# ----------------------------\n",
        "# 4. Control Smart Light via Home Assistant API\n",
        "# ----------------------------\n",
        "\n",
        "# Replace with your actual Home Assistant details\n",
        "HOME_ASSISTANT_URL = 'http://192.168.1.50:8123'\n",
        "ACCESS_TOKEN = 'eyJ0eXAiOiJKV1QiLCJhbGciOiJIUzI1NiJ9.eyJpc3MiOiJ.....<more_characters>...'\n",
        "ENTITY_ID = 'light.living_room'\n",
        "\n",
        "headers = {\n",
        "    \"Authorization\": f\"Bearer {ACCESS_TOKEN}\",\n",
        "    \"Content-Type\": \"application/json\",\n",
        "}\n",
        "\n",
        "def turn_on_light():\n",
        "    try:\n",
        "        url = f\"{HOME_ASSISTANT_URL}/api/services/light/turn_on\"\n",
        "        response = requests.post(url, headers=headers, json={\"entity_id\": ENTITY_ID})\n",
        "        response.raise_for_status()\n",
        "        print(\"✅ Light turned ON.\")\n",
        "    except requests.RequestException as e:\n",
        "        print(f\"❌ Failed to turn on light: {e}\")\n",
        "\n",
        "def turn_off_light():\n",
        "    try:\n",
        "        url = f\"{HOME_ASSISTANT_URL}/api/services/light/turn_off\"\n",
        "        response = requests.post(url, headers=headers, json={\"entity_id\": ENTITY_ID})\n",
        "        response.raise_for_status()\n",
        "        print(\"✅ Light turned OFF.\")\n",
        "    except requests.RequestException as e:\n",
        "        print(f\"❌ Failed to turn off light: {e}\")\n",
        "\n",
        "# ----------------------------\n",
        "# 5. Execute Based on Prediction\n",
        "# ----------------------------\n",
        "\n",
        "if prediction[0] == 1:\n",
        "    turn_on_light()\n",
        "else:\n",
        "    turn_off_light()\n"
      ]
    }
  ]
}